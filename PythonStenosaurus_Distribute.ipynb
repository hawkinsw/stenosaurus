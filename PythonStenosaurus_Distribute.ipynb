{
  "nbformat": 4,
  "nbformat_minor": 0,
  "metadata": {
    "colab": {
      "provenance": []
    },
    "kernelspec": {
      "name": "python3",
      "display_name": "Python 3"
    },
    "language_info": {
      "name": "python"
    }
  },
  "cells": [
    {
      "cell_type": "code",
      "source": [
        "!pip install pypng"
      ],
      "metadata": {
        "colab": {
          "base_uri": "https://localhost:8080/"
        },
        "id": "qHDFrW_92dSy",
        "outputId": "802f9f3f-8c16-4f2f-bd28-dec65dfc2f15"
      },
      "execution_count": 1,
      "outputs": [
        {
          "output_type": "stream",
          "name": "stdout",
          "text": [
            "Collecting pypng\n",
            "  Downloading pypng-0.20220715.0-py3-none-any.whl.metadata (13 kB)\n",
            "Downloading pypng-0.20220715.0-py3-none-any.whl (58 kB)\n",
            "\u001b[?25l   \u001b[90m━━━━━━━━━━━━━━━━━━━━━━━━━━━━━━━━━━━━━━━━\u001b[0m \u001b[32m0.0/58.1 kB\u001b[0m \u001b[31m?\u001b[0m eta \u001b[36m-:--:--\u001b[0m\r\u001b[2K   \u001b[90m━━━━━━━━━━━━━━━━━━━━━━━━━━━━━━━━━━━━━━━━\u001b[0m \u001b[32m58.1/58.1 kB\u001b[0m \u001b[31m2.2 MB/s\u001b[0m eta \u001b[36m0:00:00\u001b[0m\n",
            "\u001b[?25hInstalling collected packages: pypng\n",
            "Successfully installed pypng-0.20220715.0\n"
          ]
        }
      ]
    },
    {
      "cell_type": "code",
      "source": [
        "import png"
      ],
      "metadata": {
        "id": "YCjY_kwm7uze"
      },
      "execution_count": 2,
      "outputs": []
    },
    {
      "cell_type": "code",
      "source": [
        "to_decipher = png.Reader(filename=\"./s1.png\")\n",
        "(to_decipher_width, to_decipher_height, to_decipher_data, _) = to_decipher.asRGB8()\n"
      ],
      "metadata": {
        "id": "hZN4EIvQT7o-"
      },
      "execution_count": 3,
      "outputs": []
    },
    {
      "cell_type": "code",
      "source": [
        "to_decipher_data = list(to_decipher_data)\n",
        "message_image = [[0xda for x in range(to_decipher_width*3)] for y in range(to_decipher_height)]\n",
        "count = 0\n",
        "for row_index in range(to_decipher_height):\n",
        "  for column_index in range(to_decipher_width):\n",
        "    message_color = 0xda # All non-message pixels get gray.\n",
        "\n",
        "    # Help!! We have some work to do here.\n",
        "\n",
        "    # Now, use that information to make the decrypted message.\n",
        "    message_image[row_index][column_index * 3 + 0] = message_color\n",
        "    message_image[row_index][column_index * 3 + 1] = message_color\n",
        "    message_image[row_index][column_index * 3 + 2] = message_color\n",
        "\n",
        "png.from_array(message_image, \"RGB8\").save(\"./m1.png\")"
      ],
      "metadata": {
        "id": "w9vMbZhiUIT5"
      },
      "execution_count": 10,
      "outputs": []
    },
    {
      "cell_type": "code",
      "source": [
        "# Bring in the haystack file.\n",
        "input_haystack = png.Reader(filename=\"./campus.png\")\n",
        "(input_haystack_width, input_haystack_height, input_haystack_data, _) = input_haystack.asRGB8()\n",
        "\n",
        "# Bring in the mystery file.\n",
        "mystery_message = png.Reader(filename=\"./mysterymessage.png\")\n",
        "(mystery_message_width, mystery_message_height, mystery_message_data, _) = mystery_message.asRGB8()"
      ],
      "metadata": {
        "id": "vXzjTm958Kii"
      },
      "execution_count": null,
      "outputs": []
    },
    {
      "cell_type": "code",
      "source": [
        "input_haystack_data = list(input_haystack_data)\n",
        "mystery_message_data = list(mystery_message_data)\n",
        "\n",
        "if input_haystack_width != mystery_message_width or input_haystack_height != mystery_message_height:\n",
        "  print(\"The message and the haystack images are not compatible sizes!\")\n",
        "else:\n",
        "  # Make a new image as a copy from the haystack image!\n",
        "  # start.\n",
        "  steganosaurused = [[ input_haystack_data[y][(x // 3) * 3 + (x % 3)]\n",
        "                     for x in range(input_haystack_width*3)]\n",
        "                     for y in range(input_haystack_height)]\n",
        "\n",
        "  for row_index in range(input_haystack_height):\n",
        "    for column_index in range(input_haystack_width):\n",
        "      # Assume that the pixel is _not_ part of the message.\n",
        "      odd = 0\n",
        "      # If there is data in the message, make sure that\n",
        "      # the pixel is odd.\n",
        "      # Help!! We need to do some work here.\n",
        "\n",
        "      # First, force the pixel's Red-ness to the nearest even.\n",
        "      haystack_pixel_redness = (input_haystack_data[row_index][column_index * 3 + 0] // 2) * 2\n",
        "\n",
        "      # Now, if we are supposed to make it odd, then do that!\n",
        "      # Help!! We need to do some work here.\n",
        "\n",
        "      steganosaurused[row_index][column_index * 3 + 0] =  haystack_pixel_redness"
      ],
      "metadata": {
        "id": "k4MA4HyW8fr7"
      },
      "execution_count": null,
      "outputs": []
    },
    {
      "cell_type": "code",
      "source": [
        "png.from_array(steganosaurused, \"RGB8\").save(\"./s1.png\")"
      ],
      "metadata": {
        "id": "C3avTLuz_kdc"
      },
      "execution_count": null,
      "outputs": []
    }
  ]
}